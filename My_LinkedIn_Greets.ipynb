{
  "nbformat": 4,
  "nbformat_minor": 0,
  "metadata": {
    "colab": {
      "provenance": []
    },
    "kernelspec": {
      "name": "python3",
      "display_name": "Python 3"
    },
    "language_info": {
      "name": "python"
    }
  },
  "cells": [
    {
      "cell_type": "markdown",
      "source": [
        "# **LinkedIn - Accept all invitations and send first message**"
      ],
      "metadata": {
        "id": "BpwlXhInSG1T"
      }
    },
    {
      "cell_type": "markdown",
      "source": [
        "**Author:** [Kanika Varandani](https://www.linkedin.com/in/ka-nick-ka/)"
      ],
      "metadata": {
        "id": "E_KnATC2Sasf"
      }
    },
    {
      "cell_type": "markdown",
      "source": [
        "**Last update:** 2024-03-28 (Created: 2023-12-18)"
      ],
      "metadata": {
        "id": "uHdrKIdqTbOk"
      }
    },
    {
      "cell_type": "markdown",
      "source": [
        "\n",
        "**Description:** This notebook helps you quickly and easily accept all LinkedIn invitations and send a personalized introductory message to each new connection."
      ],
      "metadata": {
        "id": "wqi798l4ThnW"
      }
    },
    {
      "cell_type": "markdown",
      "source": [
        "## **Input**"
      ],
      "metadata": {
        "id": "qJ0NfnHjT2Xq"
      }
    },
    {
      "cell_type": "markdown",
      "source": [
        "### **Import libraries**"
      ],
      "metadata": {
        "id": "4jurm1zcT9ys"
      }
    },
    {
      "cell_type": "code",
      "source": [
        "import naas\n",
        "from naas_drivers import linkedin\n",
        "import pandas as pd"
      ],
      "metadata": {
        "id": "SW0t1qUXSaSj"
      },
      "execution_count": null,
      "outputs": []
    },
    {
      "cell_type": "markdown",
      "source": [
        "### **Setup variables**"
      ],
      "metadata": {
        "id": "nLud42xRURY0"
      }
    },
    {
      "cell_type": "markdown",
      "source": [
        "#### **Pre-requisite**\n",
        "\n"
      ],
      "metadata": {
        "id": "vOw0F_1PUcu2"
      }
    },
    {
      "cell_type": "markdown",
      "source": [
        "##### **Mandatory**\n",
        "\n",
        "*   **li_at:** Cookie used to authenticate Members and API clients\n",
        "*   **JSESSIONID:** Cookie used for Cross Site Request Forgery (CSRF) protection and URL signature **validation**"
      ],
      "metadata": {
        "id": "G5lPxLURUqjU"
      }
    },
    {
      "cell_type": "markdown",
      "source": [
        "##### **Optional**"
      ],
      "metadata": {
        "id": "z_qZHjJxUy3A"
      }
    },
    {
      "cell_type": "markdown",
      "source": [
        "\n",
        "\n",
        "*   **limit:** Number of invitations to be accepted. If limit = -1, all invitations are accepted.\n",
        "*   **first_message:** First message to be send\n",
        "*   **cron:** Cron params for naas scheduler. More information: https://crontab.guru/\n",
        "\n"
      ],
      "metadata": {
        "id": "R5d5BkCPVPKA"
      }
    },
    {
      "cell_type": "code",
      "execution_count": null,
      "metadata": {
        "id": "UIeogxxeR4zy"
      },
      "outputs": [],
      "source": [
        "# Mandatory\n",
        "li_at = naas.secret.get(\"LINKEDIN_LI_AT\") or \"YOUR_COOKIE_LI_AT\"\n",
        "JSESSIONID = naas.secret.get(\"LINKEDIN_JSESSIONID\") or \"YOUR_COOKIE_JSESSIONID\"\n",
        "\n",
        "# Optional\n",
        "limit = -1\n",
        "first_message = \"Hello, Nice to connect!\"\n",
        "cron = \"0 18 * * *\""
      ]
    },
    {
      "cell_type": "markdown",
      "source": [
        "## **Model**"
      ],
      "metadata": {
        "id": "fqWLaMq1VgKL"
      }
    },
    {
      "cell_type": "markdown",
      "source": [
        "#### **Get invitations received**"
      ],
      "metadata": {
        "id": "kamTB6hJVk8c"
      }
    },
    {
      "cell_type": "code",
      "source": [
        "df_invitation = linkedin.connect(li_at, JSESSIONID).invitation.get_received()\n",
        "print('Invitations received:', len(df_invitation))\n",
        "df_invitation"
      ],
      "metadata": {
        "id": "N37KbZ3LVsXk"
      },
      "execution_count": null,
      "outputs": []
    },
    {
      "cell_type": "markdown",
      "source": [
        "#### **Accept pending invitations received from \"Profile\"**"
      ],
      "metadata": {
        "id": "SQGfXUXXVvzO"
      }
    },
    {
      "cell_type": "code",
      "source": [
        "def accept_new_contact(df, limit):\n",
        "    # Init\n",
        "    df_accept = pd.DataFrame()\n",
        "    if len(df) == 0:\n",
        "        return df_accept\n",
        "\n",
        "    # Loop\n",
        "    for index, row in df.iterrows():\n",
        "        fullname = row.FULLNAME\n",
        "        status = row.INVITATION_STATUS\n",
        "        invitation_id = row.INVITATION_ID\n",
        "        shared_secret = row.SHARED_SECRET\n",
        "        if status == \"PENDING\":\n",
        "            print(fullname)\n",
        "            tmp_df = linkedin.connect(li_at, JSESSIONID).invitation.accept(\n",
        "                invitation_id, shared_secret\n",
        "            )\n",
        "            df_accept = pd.concat([df_accept, tmp_df])\n",
        "        if index != -1 and index + 1 >= limit:\n",
        "            break\n",
        "    return df_accept\n",
        "\n",
        "df_accept = accept_new_contact(df_invitation, limit)\n",
        "print('Invitations accepted:', len(df_accept))\n",
        "df_accept"
      ],
      "metadata": {
        "id": "_RIbqOcVVz4T"
      },
      "execution_count": null,
      "outputs": []
    },
    {
      "cell_type": "markdown",
      "source": [
        "\n",
        "#### **Send first message to contact**"
      ],
      "metadata": {
        "id": "2k-uWYT7V8bt"
      }
    },
    {
      "cell_type": "code",
      "source": [
        "def send_first_message(df):\n",
        "    if len(df) > 0:\n",
        "        # Loop\n",
        "        for index, row in df.iterrows():\n",
        "            fullname = row.FULLNAME\n",
        "            profile_id = row.PROFILE_ID\n",
        "            print(\"Message sent to:\", fullname)\n",
        "            linkedin.connect(li_at, JSESSIONID).message.send(FIRST_MESSAGE, profile_id)\n",
        "\n",
        "send_first_message(df_accept)"
      ],
      "metadata": {
        "id": "J4Yc_C9OV-qa"
      },
      "execution_count": null,
      "outputs": []
    },
    {
      "cell_type": "markdown",
      "source": [
        "## **Output**"
      ],
      "metadata": {
        "id": "kk12sA6wWSd3"
      }
    },
    {
      "cell_type": "markdown",
      "source": [
        "### **Display result**"
      ],
      "metadata": {
        "id": "uO5SFvvgWWmd"
      }
    },
    {
      "cell_type": "code",
      "source": [
        "df_accept"
      ],
      "metadata": {
        "id": "iBumVNwRWZPe"
      },
      "execution_count": null,
      "outputs": []
    },
    {
      "cell_type": "markdown",
      "source": [
        "\n",
        "### **Add scheduler**"
      ],
      "metadata": {
        "id": "-0x4JOJrWb98"
      }
    },
    {
      "cell_type": "code",
      "source": [
        "# Schedule your notebook every hour\n",
        "naas.scheduler.add(cron=cron)\n",
        "\n",
        "# -> Uncomment the line below to remove your scheduler\n",
        "# naas.scheduler.delete()"
      ],
      "metadata": {
        "id": "xLvMHNxkWju5"
      },
      "execution_count": null,
      "outputs": []
    }
  ]
}